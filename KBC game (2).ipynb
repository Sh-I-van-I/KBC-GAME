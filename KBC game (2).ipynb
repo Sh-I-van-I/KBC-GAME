{
 "cells": [
  {
   "cell_type": "code",
   "execution_count": 1,
   "id": "243bdfa1-055d-4fc1-a94e-7d039abe4eb8",
   "metadata": {},
   "outputs": [
    {
     "name": "stdout",
     "output_type": "stream",
     "text": [
      "pygame 2.6.0 (SDL 2.28.4, Python 3.12.4)\n",
      "Hello from the pygame community. https://www.pygame.org/contribute.html\n",
      "                                                                    Welcome to KBC                                                                    \n",
      "\n",
      "Q1: MS-Word is an example of _____\n",
      "\n",
      "A: An operating system\n",
      "B: A processing device\n",
      "C: Application software\n",
      "D: An input device\n"
     ]
    },
    {
     "name": "stdin",
     "output_type": "stream",
     "text": [
      "Enter your choice:  c\n"
     ]
    },
    {
     "name": "stdout",
     "output_type": "stream",
     "text": [
      "Correct Answer!!\n",
      "\n",
      "Q4: ________ is the process of dividing the disk into tracks and sectors\n",
      "\n",
      "A: Tracking\n",
      "B: Formatting\n",
      "C: Crashing\n",
      "D: Allotting\n"
     ]
    },
    {
     "name": "stdin",
     "output_type": "stream",
     "text": [
      "Enter your choice:  c\n"
     ]
    },
    {
     "name": "stdout",
     "output_type": "stream",
     "text": [
      "Incorrect Answer!!\n",
      "You Lose The Game!!\n",
      "Your rewards are 5000\n"
     ]
    }
   ],
   "source": [
    "from gtts import gTTS\n",
    "import pygame\n",
    "pygame.init()\n",
    "import time\n",
    "import random\n",
    "\n",
    "rewards = 0\n",
    "\n",
    "money = [5000, 10000, 25000, 50000, 100000]\n",
    "\n",
    "Questions = [\n",
    "    \"MS-Word is an example of _____\",\n",
    "    \"Ctrl, Shift and Alt are called .......... keys.\",\n",
    "    \"A computer cannot 'boot' if it does not have the _____\",\n",
    "    \"________ is the process of dividing the disk into tracks and sectors\",\n",
    "    \"Junk e-mail is also called ______\"\n",
    "]\n",
    "\n",
    "all_options = [\n",
    "    [\"An operating system\", \"A processing device\", \"Application software\", \"An input device\"],\n",
    "    [\"modifier\", \"function\", \"alphanumeric\", \"adjustment\"],\n",
    "    [\"Compiler\", \"Loader\", \"Operating system\", \"Assembler\"],\n",
    "    [\"Tracking\", \"Formatting\", \"Crashing\", \"Allotting\"],\n",
    "    [\"Spam\", \"Spoof\", \"Sniffer script\", \"Spool\"]\n",
    "]\n",
    "\n",
    "correct_options = [\"C\", \"A\", \"C\", \"B\", \"A\"]\n",
    "\n",
    "print(\"Welcome to KBC\".center(150, \" \"))\n",
    "\n",
    "num_questions_to_ask = 5\n",
    "\n",
    "asked_indices = []\n",
    "\n",
    "for _ in range(num_questions_to_ask):\n",
    "    while True:\n",
    "        i = random.choice(range(len(Questions)))\n",
    "        if i not in asked_indices:\n",
    "            asked_indices.append(i)\n",
    "            break\n",
    "\n",
    "    print(f\"\\nQ{i + 1}: {Questions[i]}\\n\")\n",
    "\n",
    "    data = Questions[i]\n",
    "    audio = gTTS(data)\n",
    "    audio.save('temp.mp3')\n",
    "    file = pygame.mixer.Sound('temp.mp3')\n",
    "    file.play()\n",
    "    time.sleep(2.5)\n",
    "\n",
    "    for idx, value in zip(list(\"ABCD\"), all_options[i]):\n",
    "        print(f\"{idx}: {value}\")\n",
    "        data = value\n",
    "\n",
    "    user_choice = input(\"Enter your choice: \").upper()\n",
    "    if user_choice in \"ABCD\":\n",
    "        if user_choice == correct_options[i]:\n",
    "            print(\"Correct Answer!!\")\n",
    "            rewards += money[i]\n",
    "        else:\n",
    "            print(\"Incorrect Answer!!\\nYou Lose The Game!!\")\n",
    "            break\n",
    "\n",
    "print(\"Your rewards are\", rewards)"
   ]
  },
  {
   "cell_type": "code",
   "execution_count": null,
   "id": "d0e767cb-4c54-49a7-adfa-3073826d8039",
   "metadata": {},
   "outputs": [],
   "source": []
  }
 ],
 "metadata": {
  "kernelspec": {
   "display_name": "Python 3 (ipykernel)",
   "language": "python",
   "name": "python3"
  },
  "language_info": {
   "codemirror_mode": {
    "name": "ipython",
    "version": 3
   },
   "file_extension": ".py",
   "mimetype": "text/x-python",
   "name": "python",
   "nbconvert_exporter": "python",
   "pygments_lexer": "ipython3",
   "version": "3.12.4"
  }
 },
 "nbformat": 4,
 "nbformat_minor": 5
}
